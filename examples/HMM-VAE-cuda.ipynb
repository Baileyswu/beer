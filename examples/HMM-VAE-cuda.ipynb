{
 "cells": [
  {
   "cell_type": "code",
   "execution_count": null,
   "metadata": {
    "ExecuteTime": {
     "end_time": "2019-12-30T14:11:15.378827Z",
     "start_time": "2019-12-30T14:10:32.052520Z"
    }
   },
   "outputs": [],
   "source": [
    "# Add the path of the beer source code ot the PYTHONPATH.\n",
    "from collections import defaultdict\n",
    "import random\n",
    "import sys\n",
    "sys.path.insert(0, '../')\n",
    "from beer import __init__\n",
    "\n",
    "import copy\n",
    "\n",
    "import beer\n",
    "import numpy as np\n",
    "import torch\n",
    "\n",
    "# For plotting.\n",
    "from bokeh.io import show, output_notebook, export_png\n",
    "from bokeh.plotting import figure, gridplot\n",
    "from bokeh.models import LinearAxis, Range1d\n",
    "output_notebook()\n",
    "\n",
    "# Convenience functions for plotting.\n",
    "import plotting"
   ]
  },
  {
   "cell_type": "markdown",
   "metadata": {},
   "source": [
    "### Set GPU"
   ]
  },
  {
   "cell_type": "code",
   "execution_count": null,
   "metadata": {
    "ExecuteTime": {
     "end_time": "2019-12-30T14:11:15.586109Z",
     "start_time": "2019-12-30T14:11:15.380943Z"
    }
   },
   "outputs": [],
   "source": [
    "torch.cuda.set_device(\"cuda:3\")\n",
    "torch.cuda.current_device()\n",
    "# device = torch.device(\"cuda:5\")\n",
    "# xxx.to(device)"
   ]
  },
  {
   "cell_type": "markdown",
   "metadata": {},
   "source": [
    "### Synthetic Data"
   ]
  },
  {
   "cell_type": "code",
   "execution_count": null,
   "metadata": {
    "ExecuteTime": {
     "end_time": "2019-12-30T14:11:19.721314Z",
     "start_time": "2019-12-30T14:11:15.588256Z"
    }
   },
   "outputs": [],
   "source": [
    "import synthetic_data\n",
    "data, states = synthetic_data.generate_sequential_data()"
   ]
  },
  {
   "cell_type": "markdown",
   "metadata": {},
   "source": [
    "### Construct Graph\n",
    "This graph describe the transformation of hidden state."
   ]
  },
  {
   "cell_type": "code",
   "execution_count": null,
   "metadata": {
    "ExecuteTime": {
     "end_time": "2019-12-30T14:11:27.266096Z",
     "start_time": "2019-12-30T14:11:19.724864Z"
    }
   },
   "outputs": [],
   "source": [
    "graph = beer.graph.Graph()\n",
    "\n",
    "# Initial and final state are non-emitting.\n",
    "s0 = graph.add_state()\n",
    "s4 = graph.add_state()\n",
    "graph.start_state = s0\n",
    "graph.end_state = s4\n",
    "\n",
    "s1 = graph.add_state(pdf_id=0)\n",
    "s2 = graph.add_state(pdf_id=1)\n",
    "s3 = graph.add_state(pdf_id=2)\n",
    "graph.add_arc(s0, s1) # default weight=1\n",
    "graph.add_arc(s1, s1)\n",
    "graph.add_arc(s1, s2)\n",
    "graph.add_arc(s2, s2)\n",
    "graph.add_arc(s2, s3)\n",
    "graph.add_arc(s3, s3)\n",
    "graph.add_arc(s3, s1)\n",
    "graph.add_arc(s1, s4)\n",
    "graph.add_arc(s2, s4)\n",
    "graph.add_arc(s3, s4)\n",
    "\n",
    "graph.normalize()\n",
    "graph"
   ]
  },
  {
   "cell_type": "code",
   "execution_count": null,
   "metadata": {
    "ExecuteTime": {
     "end_time": "2019-12-30T14:11:27.647383Z",
     "start_time": "2019-12-30T14:11:27.269108Z"
    }
   },
   "outputs": [],
   "source": [
    "cgraph = graph.compile()\n",
    "cgraph.final_log_probs"
   ]
  },
  {
   "cell_type": "markdown",
   "metadata": {},
   "source": [
    "### Pretrain HMM "
   ]
  },
  {
   "cell_type": "code",
   "execution_count": null,
   "metadata": {
    "ExecuteTime": {
     "end_time": "2019-12-30T14:12:52.834290Z",
     "start_time": "2019-12-30T14:11:27.648875Z"
    }
   },
   "outputs": [],
   "source": [
    "# We use the global mean/cov. matrix of the data to initialize the mixture.\n",
    "data_mean = torch.from_numpy(data.mean(axis=0)).float()\n",
    "data_var = torch.from_numpy(np.cov(data.T)).float()\n",
    "\n",
    "trans_mat = np.array([[.5, .5, 0], [0, .5, .5], [.5, 0, .5]])\n",
    "init_states = torch.LongTensor([0])\n",
    "final_states = torch.LongTensor([2])\n",
    "transitions = torch.from_numpy(trans_mat).float()\n",
    "\n",
    "# HMM (full cov).\n",
    "modelset = beer.NormalSet.create(data_mean, data_var, size=len(transitions),\n",
    "                                prior_strength=1., noise_std=0, \n",
    "                                cov_type='full')\n",
    "hmm_full = beer.HMM.create(cgraph, modelset).double().cuda()\n",
    "\n",
    "hmm_full"
   ]
  },
  {
   "cell_type": "code",
   "execution_count": null,
   "metadata": {
    "ExecuteTime": {
     "end_time": "2019-12-30T14:12:52.844088Z",
     "start_time": "2019-12-30T14:12:52.837692Z"
    }
   },
   "outputs": [],
   "source": [
    "modelset.bayesian_parameters"
   ]
  },
  {
   "cell_type": "code",
   "execution_count": null,
   "metadata": {
    "ExecuteTime": {
     "end_time": "2019-12-30T14:12:55.979421Z",
     "start_time": "2019-12-30T14:12:52.848567Z"
    }
   },
   "outputs": [],
   "source": [
    "modelset.conjugate_bayesian_parameters"
   ]
  },
  {
   "cell_type": "code",
   "execution_count": null,
   "metadata": {
    "ExecuteTime": {
     "end_time": "2019-12-30T14:13:06.030923Z",
     "start_time": "2019-12-30T14:12:55.982769Z"
    }
   },
   "outputs": [],
   "source": [
    "epochs = 30\n",
    "lrate = 1.\n",
    "X = torch.from_numpy(data).cuda()\n",
    "\n",
    "optim = beer.VBConjugateOptimizer(hmm_full.mean_field_factorization(), lrate)\n",
    "\n",
    "elbos = []\n",
    "\n",
    "for epoch in range(epochs):\n",
    "    optim.init_step()\n",
    "    elbo = beer.evidence_lower_bound(hmm_full, X, datasize=len(X), viterbi=False)\n",
    "    elbo.backward()\n",
    "    elbos.append(float(elbo) / len(X)) \n",
    "    optim.step()"
   ]
  },
  {
   "cell_type": "code",
   "execution_count": null,
   "metadata": {
    "ExecuteTime": {
     "end_time": "2019-12-30T14:13:07.134979Z",
     "start_time": "2019-12-30T14:13:06.032906Z"
    }
   },
   "outputs": [],
   "source": [
    "fig = figure()\n",
    "fig.line(range(len(elbos)), elbos)\n",
    "show(fig)"
   ]
  },
  {
   "cell_type": "code",
   "execution_count": null,
   "metadata": {
    "ExecuteTime": {
     "end_time": "2019-12-30T14:13:11.207303Z",
     "start_time": "2019-12-30T14:13:07.136714Z"
    }
   },
   "outputs": [],
   "source": [
    "fig = figure(width=250, height=250)\n",
    "fig.circle(data[:, 0], data[:, 1], alpha=.1)\n",
    "# plotting.plot_hmm(fig, hmm_full, alpha=.3, colors=['blue', 'red', 'green'])\n",
    "show(fig)"
   ]
  },
  {
   "cell_type": "markdown",
   "metadata": {},
   "source": [
    "### Train VAE"
   ]
  },
  {
   "cell_type": "code",
   "execution_count": null,
   "metadata": {
    "ExecuteTime": {
     "end_time": "2019-12-30T14:13:17.483863Z",
     "start_time": "2019-12-30T14:13:11.209543Z"
    }
   },
   "outputs": [],
   "source": [
    "encoder = beer.nnet.ResidualFeedForwardNet(dim_in=2, nblocks=2, block_width=2)\n",
    "decoder = beer.nnet.ResidualFeedForwardNet(dim_in=2, nblocks=2, block_width=2)\n",
    "vae = beer.VAE(hmm_full, encoder, decoder).double().cuda()"
   ]
  },
  {
   "cell_type": "code",
   "execution_count": null,
   "metadata": {
    "ExecuteTime": {
     "end_time": "2019-12-30T14:13:17.591099Z",
     "start_time": "2019-12-30T14:13:17.486578Z"
    }
   },
   "outputs": [],
   "source": [
    "# small number of epochs for testing\n",
    "epochs = 1000\n",
    "update_prior_after_epoch = 50\n",
    "prior_lrate = 1.\n",
    "cjg_optim = beer.VBConjugateOptimizer(vae.mean_field_factorization(), lrate=0)\n",
    "std_optim = torch.optim.Adam(vae.parameters(), lr=1e-3)\n",
    "optim = beer.VBOptimizer(cjg_optim, std_optim)"
   ]
  },
  {
   "cell_type": "code",
   "execution_count": null,
   "metadata": {
    "ExecuteTime": {
     "end_time": "2019-12-30T14:18:38.694865Z",
     "start_time": "2019-12-30T14:13:17.593998Z"
    },
    "scrolled": false
   },
   "outputs": [],
   "source": [
    "elbos = []\n",
    "for e in range(epochs):\n",
    "    optim.init_step()\n",
    "    elbo = beer.evidence_lower_bound(vae, X, nsamples=5, kl_weight=0.8)\n",
    "    elbo.backward()\n",
    "    optim.step()\n",
    "    if e >= update_prior_after_epoch:\n",
    "        cjg_optim.lrate = prior_lrate\n",
    "    if e % 50 == 0:\n",
    "        elbos.append(float(elbo) / len(X))\n",
    "    if e % 50 == 0:\n",
    "        post = vae.posteriors(X)\n",
    "        fig = figure(title='', width=250, height=250)\n",
    "        m = post.params.mean.data.clone().cpu().numpy()\n",
    "        fig.circle(m[:, 0], m[:, 1], alpha=.1)\n",
    "        plotting.plot_hmm(fig, vae.prior, alpha=.3, colors=['blue', 'red', 'green'])\n",
    "        show(fig)"
   ]
  },
  {
   "cell_type": "code",
   "execution_count": null,
   "metadata": {
    "ExecuteTime": {
     "end_time": "2019-12-30T14:18:38.816970Z",
     "start_time": "2019-12-30T14:18:38.697036Z"
    }
   },
   "outputs": [],
   "source": [
    "fig = figure()\n",
    "fig.line(range(len(elbos[:])), elbos[:])\n",
    "show(fig)\n",
    "elbos[-1]"
   ]
  },
  {
   "cell_type": "code",
   "execution_count": null,
   "metadata": {
    "ExecuteTime": {
     "end_time": "2019-12-30T14:18:39.956731Z",
     "start_time": "2019-12-30T14:18:38.818345Z"
    }
   },
   "outputs": [],
   "source": [
    "fig = figure(title='', width=250, height=250)\n",
    "post = vae.posteriors(X)\n",
    "m = post.sample(1).data.clone().cpu().numpy().reshape(-1, 2)\n",
    "# m = post.params.mean.data.clone().cpu().numpy()\n",
    "fig.circle(m[:, 0], m[:, 1], alpha=.1)\n",
    "plotting.plot_hmm(fig, vae.prior.cpu(), alpha=.3, colors=['blue', 'red', 'green'])\n",
    "show(fig)"
   ]
  },
  {
   "cell_type": "code",
   "execution_count": null,
   "metadata": {
    "ExecuteTime": {
     "end_time": "2019-12-30T14:18:40.081977Z",
     "start_time": "2019-12-30T14:18:39.958173Z"
    }
   },
   "outputs": [],
   "source": [
    "fig = figure(title='', width=250, height=250)\n",
    "post = vae.posteriors(X)\n",
    "m = post.params.mean.data.clone().cpu().numpy()\n",
    "fig.circle(m[:, 0], m[:, 1], alpha=.1)\n",
    "show(fig)"
   ]
  },
  {
   "cell_type": "code",
   "execution_count": null,
   "metadata": {
    "ExecuteTime": {
     "end_time": "2019-12-30T14:18:40.218077Z",
     "start_time": "2019-12-30T14:18:40.083341Z"
    }
   },
   "outputs": [],
   "source": [
    "fig = figure(title='', width=250, height=250)\n",
    "post = vae.posteriors(X)\n",
    "m = post.sample(1).data.clone().cpu().numpy().reshape(-1, 2)\n",
    "fig.circle(m[:, 0], m[:, 1], alpha=.1)\n",
    "show(fig)"
   ]
  },
  {
   "cell_type": "code",
   "execution_count": null,
   "metadata": {
    "ExecuteTime": {
     "end_time": "2019-12-30T14:18:40.349742Z",
     "start_time": "2019-12-30T14:18:40.219392Z"
    }
   },
   "outputs": [],
   "source": [
    "fig = figure(title='', width=250, height=250)\n",
    "post = vae.posteriors(X)\n",
    "h = post.sample(1).reshape(-1, 2)\n",
    "pdf = vae.pdfs(h)\n",
    "m = pdf.params.mean.data.clone().cpu().numpy()\n",
    "fig.circle(m[:, 0], m[:, 1], alpha=.1)\n",
    "show(fig)"
   ]
  },
  {
   "cell_type": "code",
   "execution_count": null,
   "metadata": {
    "ExecuteTime": {
     "end_time": "2019-12-30T14:18:40.483627Z",
     "start_time": "2019-12-30T14:18:40.351172Z"
    }
   },
   "outputs": [],
   "source": [
    "fig = figure(title='', width=250, height=250)\n",
    "post = vae.posteriors(X)\n",
    "h = post.sample(1).reshape(-1, 2)\n",
    "pdf = vae.pdfs(h)\n",
    "m = pdf.sample(1).data.clone().cpu().numpy().reshape(-1, 2)\n",
    "fig.circle(m[:, 0], m[:, 1], alpha=.1)\n",
    "show(fig)"
   ]
  },
  {
   "cell_type": "code",
   "execution_count": null,
   "metadata": {
    "ExecuteTime": {
     "end_time": "2019-12-30T14:18:40.681260Z",
     "start_time": "2019-12-30T14:18:40.485138Z"
    }
   },
   "outputs": [],
   "source": [
    "state_seq = vae.prior.decode(post.params.mean.clone().cpu())\n",
    "torch.eq((state_seq)%3, torch.from_numpy(states))"
   ]
  },
  {
   "cell_type": "markdown",
   "metadata": {},
   "source": [
    "### Save Model"
   ]
  },
  {
   "cell_type": "code",
   "execution_count": null,
   "metadata": {
    "ExecuteTime": {
     "end_time": "2019-12-30T14:18:40.733264Z",
     "start_time": "2019-12-30T14:18:40.685604Z"
    }
   },
   "outputs": [],
   "source": [
    "torch.save(vae.state_dict(), 'hmm-vae-cuda.pkl')"
   ]
  },
  {
   "cell_type": "markdown",
   "metadata": {},
   "source": [
    "### Load Model"
   ]
  },
  {
   "cell_type": "code",
   "execution_count": null,
   "metadata": {
    "ExecuteTime": {
     "end_time": "2019-12-30T14:18:40.821918Z",
     "start_time": "2019-12-30T14:18:40.738168Z"
    }
   },
   "outputs": [],
   "source": [
    "vae.load_state_dict(torch.load('hmm-vae-cuda.pkl'))"
   ]
  }
 ],
 "metadata": {
  "kernelspec": {
   "display_name": "Python 3",
   "language": "python",
   "name": "python3"
  },
  "language_info": {
   "codemirror_mode": {
    "name": "ipython",
    "version": 3
   },
   "file_extension": ".py",
   "mimetype": "text/x-python",
   "name": "python",
   "nbconvert_exporter": "python",
   "pygments_lexer": "ipython3",
   "version": "3.7.1"
  },
  "varInspector": {
   "cols": {
    "lenName": 16,
    "lenType": 16,
    "lenVar": 40
   },
   "kernels_config": {
    "python": {
     "delete_cmd_postfix": "",
     "delete_cmd_prefix": "del ",
     "library": "var_list.py",
     "varRefreshCmd": "print(var_dic_list())"
    },
    "r": {
     "delete_cmd_postfix": ") ",
     "delete_cmd_prefix": "rm(",
     "library": "var_list.r",
     "varRefreshCmd": "cat(var_dic_list()) "
    }
   },
   "position": {
    "height": "636.203px",
    "left": "437.875px",
    "right": "20px",
    "top": "123px",
    "width": "767.766px"
   },
   "types_to_exclude": [
    "module",
    "function",
    "builtin_function_or_method",
    "instance",
    "_Feature"
   ],
   "window_display": false
  }
 },
 "nbformat": 4,
 "nbformat_minor": 2
}
