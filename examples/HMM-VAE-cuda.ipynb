{
 "cells": [
  {
   "cell_type": "code",
   "execution_count": 1,
   "metadata": {
    "ExecuteTime": {
     "end_time": "2019-11-18T08:58:01.380417Z",
     "start_time": "2019-11-18T08:58:00.171203Z"
    }
   },
   "outputs": [
    {
     "data": {
      "text/html": [
       "\n",
       "    <div class=\"bk-root\">\n",
       "        <a href=\"https://bokeh.pydata.org\" target=\"_blank\" class=\"bk-logo bk-logo-small bk-logo-notebook\"></a>\n",
       "        <span id=\"1001\">Loading BokehJS ...</span>\n",
       "    </div>"
      ]
     },
     "metadata": {},
     "output_type": "display_data"
    },
    {
     "data": {
      "application/javascript": [
       "\n",
       "(function(root) {\n",
       "  function now() {\n",
       "    return new Date();\n",
       "  }\n",
       "\n",
       "  var force = true;\n",
       "\n",
       "  if (typeof (root._bokeh_onload_callbacks) === \"undefined\" || force === true) {\n",
       "    root._bokeh_onload_callbacks = [];\n",
       "    root._bokeh_is_loading = undefined;\n",
       "  }\n",
       "\n",
       "  var JS_MIME_TYPE = 'application/javascript';\n",
       "  var HTML_MIME_TYPE = 'text/html';\n",
       "  var EXEC_MIME_TYPE = 'application/vnd.bokehjs_exec.v0+json';\n",
       "  var CLASS_NAME = 'output_bokeh rendered_html';\n",
       "\n",
       "  /**\n",
       "   * Render data to the DOM node\n",
       "   */\n",
       "  function render(props, node) {\n",
       "    var script = document.createElement(\"script\");\n",
       "    node.appendChild(script);\n",
       "  }\n",
       "\n",
       "  /**\n",
       "   * Handle when an output is cleared or removed\n",
       "   */\n",
       "  function handleClearOutput(event, handle) {\n",
       "    var cell = handle.cell;\n",
       "\n",
       "    var id = cell.output_area._bokeh_element_id;\n",
       "    var server_id = cell.output_area._bokeh_server_id;\n",
       "    // Clean up Bokeh references\n",
       "    if (id != null && id in Bokeh.index) {\n",
       "      Bokeh.index[id].model.document.clear();\n",
       "      delete Bokeh.index[id];\n",
       "    }\n",
       "\n",
       "    if (server_id !== undefined) {\n",
       "      // Clean up Bokeh references\n",
       "      var cmd = \"from bokeh.io.state import curstate; print(curstate().uuid_to_server['\" + server_id + \"'].get_sessions()[0].document.roots[0]._id)\";\n",
       "      cell.notebook.kernel.execute(cmd, {\n",
       "        iopub: {\n",
       "          output: function(msg) {\n",
       "            var id = msg.content.text.trim();\n",
       "            if (id in Bokeh.index) {\n",
       "              Bokeh.index[id].model.document.clear();\n",
       "              delete Bokeh.index[id];\n",
       "            }\n",
       "          }\n",
       "        }\n",
       "      });\n",
       "      // Destroy server and session\n",
       "      var cmd = \"import bokeh.io.notebook as ion; ion.destroy_server('\" + server_id + \"')\";\n",
       "      cell.notebook.kernel.execute(cmd);\n",
       "    }\n",
       "  }\n",
       "\n",
       "  /**\n",
       "   * Handle when a new output is added\n",
       "   */\n",
       "  function handleAddOutput(event, handle) {\n",
       "    var output_area = handle.output_area;\n",
       "    var output = handle.output;\n",
       "\n",
       "    // limit handleAddOutput to display_data with EXEC_MIME_TYPE content only\n",
       "    if ((output.output_type != \"display_data\") || (!output.data.hasOwnProperty(EXEC_MIME_TYPE))) {\n",
       "      return\n",
       "    }\n",
       "\n",
       "    var toinsert = output_area.element.find(\".\" + CLASS_NAME.split(' ')[0]);\n",
       "\n",
       "    if (output.metadata[EXEC_MIME_TYPE][\"id\"] !== undefined) {\n",
       "      toinsert[toinsert.length - 1].firstChild.textContent = output.data[JS_MIME_TYPE];\n",
       "      // store reference to embed id on output_area\n",
       "      output_area._bokeh_element_id = output.metadata[EXEC_MIME_TYPE][\"id\"];\n",
       "    }\n",
       "    if (output.metadata[EXEC_MIME_TYPE][\"server_id\"] !== undefined) {\n",
       "      var bk_div = document.createElement(\"div\");\n",
       "      bk_div.innerHTML = output.data[HTML_MIME_TYPE];\n",
       "      var script_attrs = bk_div.children[0].attributes;\n",
       "      for (var i = 0; i < script_attrs.length; i++) {\n",
       "        toinsert[toinsert.length - 1].firstChild.setAttribute(script_attrs[i].name, script_attrs[i].value);\n",
       "      }\n",
       "      // store reference to server id on output_area\n",
       "      output_area._bokeh_server_id = output.metadata[EXEC_MIME_TYPE][\"server_id\"];\n",
       "    }\n",
       "  }\n",
       "\n",
       "  function register_renderer(events, OutputArea) {\n",
       "\n",
       "    function append_mime(data, metadata, element) {\n",
       "      // create a DOM node to render to\n",
       "      var toinsert = this.create_output_subarea(\n",
       "        metadata,\n",
       "        CLASS_NAME,\n",
       "        EXEC_MIME_TYPE\n",
       "      );\n",
       "      this.keyboard_manager.register_events(toinsert);\n",
       "      // Render to node\n",
       "      var props = {data: data, metadata: metadata[EXEC_MIME_TYPE]};\n",
       "      render(props, toinsert[toinsert.length - 1]);\n",
       "      element.append(toinsert);\n",
       "      return toinsert\n",
       "    }\n",
       "\n",
       "    /* Handle when an output is cleared or removed */\n",
       "    events.on('clear_output.CodeCell', handleClearOutput);\n",
       "    events.on('delete.Cell', handleClearOutput);\n",
       "\n",
       "    /* Handle when a new output is added */\n",
       "    events.on('output_added.OutputArea', handleAddOutput);\n",
       "\n",
       "    /**\n",
       "     * Register the mime type and append_mime function with output_area\n",
       "     */\n",
       "    OutputArea.prototype.register_mime_type(EXEC_MIME_TYPE, append_mime, {\n",
       "      /* Is output safe? */\n",
       "      safe: true,\n",
       "      /* Index of renderer in `output_area.display_order` */\n",
       "      index: 0\n",
       "    });\n",
       "  }\n",
       "\n",
       "  // register the mime type if in Jupyter Notebook environment and previously unregistered\n",
       "  if (root.Jupyter !== undefined) {\n",
       "    var events = require('base/js/events');\n",
       "    var OutputArea = require('notebook/js/outputarea').OutputArea;\n",
       "\n",
       "    if (OutputArea.prototype.mime_types().indexOf(EXEC_MIME_TYPE) == -1) {\n",
       "      register_renderer(events, OutputArea);\n",
       "    }\n",
       "  }\n",
       "\n",
       "  \n",
       "  if (typeof (root._bokeh_timeout) === \"undefined\" || force === true) {\n",
       "    root._bokeh_timeout = Date.now() + 5000;\n",
       "    root._bokeh_failed_load = false;\n",
       "  }\n",
       "\n",
       "  var NB_LOAD_WARNING = {'data': {'text/html':\n",
       "     \"<div style='background-color: #fdd'>\\n\"+\n",
       "     \"<p>\\n\"+\n",
       "     \"BokehJS does not appear to have successfully loaded. If loading BokehJS from CDN, this \\n\"+\n",
       "     \"may be due to a slow or bad network connection. Possible fixes:\\n\"+\n",
       "     \"</p>\\n\"+\n",
       "     \"<ul>\\n\"+\n",
       "     \"<li>re-rerun `output_notebook()` to attempt to load from CDN again, or</li>\\n\"+\n",
       "     \"<li>use INLINE resources instead, as so:</li>\\n\"+\n",
       "     \"</ul>\\n\"+\n",
       "     \"<code>\\n\"+\n",
       "     \"from bokeh.resources import INLINE\\n\"+\n",
       "     \"output_notebook(resources=INLINE)\\n\"+\n",
       "     \"</code>\\n\"+\n",
       "     \"</div>\"}};\n",
       "\n",
       "  function display_loaded() {\n",
       "    var el = document.getElementById(\"1001\");\n",
       "    if (el != null) {\n",
       "      el.textContent = \"BokehJS is loading...\";\n",
       "    }\n",
       "    if (root.Bokeh !== undefined) {\n",
       "      if (el != null) {\n",
       "        el.textContent = \"BokehJS \" + root.Bokeh.version + \" successfully loaded.\";\n",
       "      }\n",
       "    } else if (Date.now() < root._bokeh_timeout) {\n",
       "      setTimeout(display_loaded, 100)\n",
       "    }\n",
       "  }\n",
       "\n",
       "\n",
       "  function run_callbacks() {\n",
       "    try {\n",
       "      root._bokeh_onload_callbacks.forEach(function(callback) { callback() });\n",
       "    }\n",
       "    finally {\n",
       "      delete root._bokeh_onload_callbacks\n",
       "    }\n",
       "    console.info(\"Bokeh: all callbacks have finished\");\n",
       "  }\n",
       "\n",
       "  function load_libs(js_urls, callback) {\n",
       "    root._bokeh_onload_callbacks.push(callback);\n",
       "    if (root._bokeh_is_loading > 0) {\n",
       "      console.log(\"Bokeh: BokehJS is being loaded, scheduling callback at\", now());\n",
       "      return null;\n",
       "    }\n",
       "    if (js_urls == null || js_urls.length === 0) {\n",
       "      run_callbacks();\n",
       "      return null;\n",
       "    }\n",
       "    console.log(\"Bokeh: BokehJS not loaded, scheduling load and callback at\", now());\n",
       "    root._bokeh_is_loading = js_urls.length;\n",
       "    for (var i = 0; i < js_urls.length; i++) {\n",
       "      var url = js_urls[i];\n",
       "      var s = document.createElement('script');\n",
       "      s.src = url;\n",
       "      s.async = false;\n",
       "      s.onreadystatechange = s.onload = function() {\n",
       "        root._bokeh_is_loading--;\n",
       "        if (root._bokeh_is_loading === 0) {\n",
       "          console.log(\"Bokeh: all BokehJS libraries loaded\");\n",
       "          run_callbacks()\n",
       "        }\n",
       "      };\n",
       "      s.onerror = function() {\n",
       "        console.warn(\"failed to load library \" + url);\n",
       "      };\n",
       "      console.log(\"Bokeh: injecting script tag for BokehJS library: \", url);\n",
       "      document.getElementsByTagName(\"head\")[0].appendChild(s);\n",
       "    }\n",
       "  };var element = document.getElementById(\"1001\");\n",
       "  if (element == null) {\n",
       "    console.log(\"Bokeh: ERROR: autoload.js configured with elementid '1001' but no matching script tag was found. \")\n",
       "    return false;\n",
       "  }\n",
       "\n",
       "  var js_urls = [\"https://cdn.pydata.org/bokeh/release/bokeh-1.0.0.min.js\", \"https://cdn.pydata.org/bokeh/release/bokeh-widgets-1.0.0.min.js\", \"https://cdn.pydata.org/bokeh/release/bokeh-tables-1.0.0.min.js\", \"https://cdn.pydata.org/bokeh/release/bokeh-gl-1.0.0.min.js\"];\n",
       "\n",
       "  var inline_js = [\n",
       "    function(Bokeh) {\n",
       "      Bokeh.set_log_level(\"info\");\n",
       "    },\n",
       "    \n",
       "    function(Bokeh) {\n",
       "      \n",
       "    },\n",
       "    function(Bokeh) {\n",
       "      console.log(\"Bokeh: injecting CSS: https://cdn.pydata.org/bokeh/release/bokeh-1.0.0.min.css\");\n",
       "      Bokeh.embed.inject_css(\"https://cdn.pydata.org/bokeh/release/bokeh-1.0.0.min.css\");\n",
       "      console.log(\"Bokeh: injecting CSS: https://cdn.pydata.org/bokeh/release/bokeh-widgets-1.0.0.min.css\");\n",
       "      Bokeh.embed.inject_css(\"https://cdn.pydata.org/bokeh/release/bokeh-widgets-1.0.0.min.css\");\n",
       "      console.log(\"Bokeh: injecting CSS: https://cdn.pydata.org/bokeh/release/bokeh-tables-1.0.0.min.css\");\n",
       "      Bokeh.embed.inject_css(\"https://cdn.pydata.org/bokeh/release/bokeh-tables-1.0.0.min.css\");\n",
       "    }\n",
       "  ];\n",
       "\n",
       "  function run_inline_js() {\n",
       "    \n",
       "    if ((root.Bokeh !== undefined) || (force === true)) {\n",
       "      for (var i = 0; i < inline_js.length; i++) {\n",
       "        inline_js[i].call(root, root.Bokeh);\n",
       "      }if (force === true) {\n",
       "        display_loaded();\n",
       "      }} else if (Date.now() < root._bokeh_timeout) {\n",
       "      setTimeout(run_inline_js, 100);\n",
       "    } else if (!root._bokeh_failed_load) {\n",
       "      console.log(\"Bokeh: BokehJS failed to load within specified timeout.\");\n",
       "      root._bokeh_failed_load = true;\n",
       "    } else if (force !== true) {\n",
       "      var cell = $(document.getElementById(\"1001\")).parents('.cell').data().cell;\n",
       "      cell.output_area.append_execute_result(NB_LOAD_WARNING)\n",
       "    }\n",
       "\n",
       "  }\n",
       "\n",
       "  if (root._bokeh_is_loading === 0) {\n",
       "    console.log(\"Bokeh: BokehJS loaded, going straight to plotting\");\n",
       "    run_inline_js();\n",
       "  } else {\n",
       "    load_libs(js_urls, function() {\n",
       "      console.log(\"Bokeh: BokehJS plotting callback run at\", now());\n",
       "      run_inline_js();\n",
       "    });\n",
       "  }\n",
       "}(window));"
      ],
      "application/vnd.bokehjs_load.v0+json": "\n(function(root) {\n  function now() {\n    return new Date();\n  }\n\n  var force = true;\n\n  if (typeof (root._bokeh_onload_callbacks) === \"undefined\" || force === true) {\n    root._bokeh_onload_callbacks = [];\n    root._bokeh_is_loading = undefined;\n  }\n\n  \n\n  \n  if (typeof (root._bokeh_timeout) === \"undefined\" || force === true) {\n    root._bokeh_timeout = Date.now() + 5000;\n    root._bokeh_failed_load = false;\n  }\n\n  var NB_LOAD_WARNING = {'data': {'text/html':\n     \"<div style='background-color: #fdd'>\\n\"+\n     \"<p>\\n\"+\n     \"BokehJS does not appear to have successfully loaded. If loading BokehJS from CDN, this \\n\"+\n     \"may be due to a slow or bad network connection. Possible fixes:\\n\"+\n     \"</p>\\n\"+\n     \"<ul>\\n\"+\n     \"<li>re-rerun `output_notebook()` to attempt to load from CDN again, or</li>\\n\"+\n     \"<li>use INLINE resources instead, as so:</li>\\n\"+\n     \"</ul>\\n\"+\n     \"<code>\\n\"+\n     \"from bokeh.resources import INLINE\\n\"+\n     \"output_notebook(resources=INLINE)\\n\"+\n     \"</code>\\n\"+\n     \"</div>\"}};\n\n  function display_loaded() {\n    var el = document.getElementById(\"1001\");\n    if (el != null) {\n      el.textContent = \"BokehJS is loading...\";\n    }\n    if (root.Bokeh !== undefined) {\n      if (el != null) {\n        el.textContent = \"BokehJS \" + root.Bokeh.version + \" successfully loaded.\";\n      }\n    } else if (Date.now() < root._bokeh_timeout) {\n      setTimeout(display_loaded, 100)\n    }\n  }\n\n\n  function run_callbacks() {\n    try {\n      root._bokeh_onload_callbacks.forEach(function(callback) { callback() });\n    }\n    finally {\n      delete root._bokeh_onload_callbacks\n    }\n    console.info(\"Bokeh: all callbacks have finished\");\n  }\n\n  function load_libs(js_urls, callback) {\n    root._bokeh_onload_callbacks.push(callback);\n    if (root._bokeh_is_loading > 0) {\n      console.log(\"Bokeh: BokehJS is being loaded, scheduling callback at\", now());\n      return null;\n    }\n    if (js_urls == null || js_urls.length === 0) {\n      run_callbacks();\n      return null;\n    }\n    console.log(\"Bokeh: BokehJS not loaded, scheduling load and callback at\", now());\n    root._bokeh_is_loading = js_urls.length;\n    for (var i = 0; i < js_urls.length; i++) {\n      var url = js_urls[i];\n      var s = document.createElement('script');\n      s.src = url;\n      s.async = false;\n      s.onreadystatechange = s.onload = function() {\n        root._bokeh_is_loading--;\n        if (root._bokeh_is_loading === 0) {\n          console.log(\"Bokeh: all BokehJS libraries loaded\");\n          run_callbacks()\n        }\n      };\n      s.onerror = function() {\n        console.warn(\"failed to load library \" + url);\n      };\n      console.log(\"Bokeh: injecting script tag for BokehJS library: \", url);\n      document.getElementsByTagName(\"head\")[0].appendChild(s);\n    }\n  };var element = document.getElementById(\"1001\");\n  if (element == null) {\n    console.log(\"Bokeh: ERROR: autoload.js configured with elementid '1001' but no matching script tag was found. \")\n    return false;\n  }\n\n  var js_urls = [\"https://cdn.pydata.org/bokeh/release/bokeh-1.0.0.min.js\", \"https://cdn.pydata.org/bokeh/release/bokeh-widgets-1.0.0.min.js\", \"https://cdn.pydata.org/bokeh/release/bokeh-tables-1.0.0.min.js\", \"https://cdn.pydata.org/bokeh/release/bokeh-gl-1.0.0.min.js\"];\n\n  var inline_js = [\n    function(Bokeh) {\n      Bokeh.set_log_level(\"info\");\n    },\n    \n    function(Bokeh) {\n      \n    },\n    function(Bokeh) {\n      console.log(\"Bokeh: injecting CSS: https://cdn.pydata.org/bokeh/release/bokeh-1.0.0.min.css\");\n      Bokeh.embed.inject_css(\"https://cdn.pydata.org/bokeh/release/bokeh-1.0.0.min.css\");\n      console.log(\"Bokeh: injecting CSS: https://cdn.pydata.org/bokeh/release/bokeh-widgets-1.0.0.min.css\");\n      Bokeh.embed.inject_css(\"https://cdn.pydata.org/bokeh/release/bokeh-widgets-1.0.0.min.css\");\n      console.log(\"Bokeh: injecting CSS: https://cdn.pydata.org/bokeh/release/bokeh-tables-1.0.0.min.css\");\n      Bokeh.embed.inject_css(\"https://cdn.pydata.org/bokeh/release/bokeh-tables-1.0.0.min.css\");\n    }\n  ];\n\n  function run_inline_js() {\n    \n    if ((root.Bokeh !== undefined) || (force === true)) {\n      for (var i = 0; i < inline_js.length; i++) {\n        inline_js[i].call(root, root.Bokeh);\n      }if (force === true) {\n        display_loaded();\n      }} else if (Date.now() < root._bokeh_timeout) {\n      setTimeout(run_inline_js, 100);\n    } else if (!root._bokeh_failed_load) {\n      console.log(\"Bokeh: BokehJS failed to load within specified timeout.\");\n      root._bokeh_failed_load = true;\n    } else if (force !== true) {\n      var cell = $(document.getElementById(\"1001\")).parents('.cell').data().cell;\n      cell.output_area.append_execute_result(NB_LOAD_WARNING)\n    }\n\n  }\n\n  if (root._bokeh_is_loading === 0) {\n    console.log(\"Bokeh: BokehJS loaded, going straight to plotting\");\n    run_inline_js();\n  } else {\n    load_libs(js_urls, function() {\n      console.log(\"Bokeh: BokehJS plotting callback run at\", now());\n      run_inline_js();\n    });\n  }\n}(window));"
     },
     "metadata": {},
     "output_type": "display_data"
    }
   ],
   "source": [
    "# Add the path of the beer source code ot the PYTHONPATH.\n",
    "from collections import defaultdict\n",
    "import random\n",
    "import sys\n",
    "sys.path.insert(0, '../')\n",
    "from beer import __init__\n",
    "\n",
    "import copy\n",
    "\n",
    "import beer\n",
    "import numpy as np\n",
    "import torch\n",
    "\n",
    "# For plotting.\n",
    "from bokeh.io import show, output_notebook\n",
    "from bokeh.plotting import figure, gridplot\n",
    "from bokeh.models import LinearAxis, Range1d\n",
    "output_notebook()\n",
    "\n",
    "# Convenience functions for plotting.\n",
    "import plotting"
   ]
  },
  {
   "cell_type": "markdown",
   "metadata": {},
   "source": [
    "### Set GPU"
   ]
  },
  {
   "cell_type": "code",
   "execution_count": 2,
   "metadata": {
    "ExecuteTime": {
     "end_time": "2019-11-18T08:58:01.569479Z",
     "start_time": "2019-11-18T08:58:01.383892Z"
    }
   },
   "outputs": [
    {
     "data": {
      "text/plain": [
       "3"
      ]
     },
     "execution_count": 2,
     "metadata": {},
     "output_type": "execute_result"
    }
   ],
   "source": [
    "torch.cuda.set_device(\"cuda:3\")\n",
    "torch.cuda.current_device()\n",
    "# device = torch.device(\"cuda:5\")\n",
    "# xxx.to(device)"
   ]
  },
  {
   "cell_type": "markdown",
   "metadata": {},
   "source": [
    "### Synthetic Data"
   ]
  },
  {
   "cell_type": "code",
   "execution_count": 3,
   "metadata": {
    "ExecuteTime": {
     "end_time": "2019-11-18T08:58:01.913941Z",
     "start_time": "2019-11-18T08:58:01.572288Z"
    }
   },
   "outputs": [],
   "source": [
    "import synthetic_data\n",
    "data, trans_mat = synthetic_data.generate_sequential_data()"
   ]
  },
  {
   "cell_type": "markdown",
   "metadata": {},
   "source": [
    "### Construct Graph\n",
    "This graph describe the transformation of hidden state."
   ]
  },
  {
   "cell_type": "code",
   "execution_count": 4,
   "metadata": {
    "ExecuteTime": {
     "end_time": "2019-11-18T08:58:01.994498Z",
     "start_time": "2019-11-18T08:58:01.919131Z"
    }
   },
   "outputs": [
    {
     "data": {
      "image/svg+xml": [
       "<?xml version=\"1.0\" encoding=\"UTF-8\" standalone=\"no\"?>\n",
       "<!DOCTYPE svg PUBLIC \"-//W3C//DTD SVG 1.1//EN\"\n",
       " \"http://www.w3.org/Graphics/SVG/1.1/DTD/svg11.dtd\">\n",
       "<!-- Generated by graphviz version 2.40.1 (20161225.0304)\n",
       " -->\n",
       "<!-- Title: %3 Pages: 1 -->\n",
       "<svg width=\"451pt\" height=\"161pt\"\n",
       " viewBox=\"0.00 0.00 451.00 161.00\" xmlns=\"http://www.w3.org/2000/svg\" xmlns:xlink=\"http://www.w3.org/1999/xlink\">\n",
       "<g id=\"graph0\" class=\"graph\" transform=\"scale(1 1) rotate(0) translate(4 157)\">\n",
       "<title>%3</title>\n",
       "<polygon fill=\"#ffffff\" stroke=\"transparent\" points=\"-4,4 -4,-157 447,-157 447,4 -4,4\"/>\n",
       "<!-- 0 -->\n",
       "<g id=\"node1\" class=\"node\">\n",
       "<title>0</title>\n",
       "<ellipse fill=\"none\" stroke=\"#000000\" stroke-width=\"2\" cx=\"18\" cy=\"-69\" rx=\"18\" ry=\"18\"/>\n",
       "<text text-anchor=\"middle\" x=\"18\" y=\"-65.3\" font-family=\"Times,serif\" font-size=\"14.00\" fill=\"#000000\">0</text>\n",
       "</g>\n",
       "<!-- 2 -->\n",
       "<g id=\"node3\" class=\"node\">\n",
       "<title>2</title>\n",
       "<ellipse fill=\"none\" stroke=\"#000000\" cx=\"108\" cy=\"-69\" rx=\"18\" ry=\"18\"/>\n",
       "<text text-anchor=\"middle\" x=\"108\" y=\"-65.3\" font-family=\"Times,serif\" font-size=\"14.00\" fill=\"#000000\">2</text>\n",
       "</g>\n",
       "<!-- 0&#45;&gt;2 -->\n",
       "<g id=\"edge10\" class=\"edge\">\n",
       "<title>0&#45;&gt;2</title>\n",
       "<path fill=\"none\" stroke=\"#000000\" d=\"M36.2128,-69C48.6557,-69 65.3947,-69 79.5789,-69\"/>\n",
       "<polygon fill=\"#000000\" stroke=\"#000000\" points=\"79.8143,-72.5001 89.8142,-69 79.8142,-65.5001 79.8143,-72.5001\"/>\n",
       "<text text-anchor=\"middle\" x=\"63\" y=\"-72.8\" font-family=\"Times,serif\" font-size=\"14.00\" fill=\"#000000\">1.0</text>\n",
       "</g>\n",
       "<!-- 1 -->\n",
       "<g id=\"node2\" class=\"node\">\n",
       "<title>1</title>\n",
       "<ellipse fill=\"none\" stroke=\"#000000\" cx=\"421\" cy=\"-105\" rx=\"18\" ry=\"18\"/>\n",
       "<ellipse fill=\"none\" stroke=\"#000000\" cx=\"421\" cy=\"-105\" rx=\"22\" ry=\"22\"/>\n",
       "<text text-anchor=\"middle\" x=\"421\" y=\"-101.3\" font-family=\"Times,serif\" font-size=\"14.00\" fill=\"#000000\">1</text>\n",
       "</g>\n",
       "<!-- 2&#45;&gt;1 -->\n",
       "<g id=\"edge5\" class=\"edge\">\n",
       "<title>2&#45;&gt;1</title>\n",
       "<path fill=\"none\" stroke=\"#000000\" d=\"M120.6971,-81.8792C136.1801,-96.5749 163.9038,-119.7652 193,-129 261.2793,-150.671 346.2465,-130.0078 390.6879,-115.8249\"/>\n",
       "<polygon fill=\"#000000\" stroke=\"#000000\" points=\"391.9081,-119.108 400.3084,-112.6516 389.7153,-112.4603 391.9081,-119.108\"/>\n",
       "<text text-anchor=\"middle\" x=\"262.5\" y=\"-141.8\" font-family=\"Times,serif\" font-size=\"14.00\" fill=\"#000000\">0.333</text>\n",
       "</g>\n",
       "<!-- 2&#45;&gt;2 -->\n",
       "<g id=\"edge7\" class=\"edge\">\n",
       "<title>2&#45;&gt;2</title>\n",
       "<path fill=\"none\" stroke=\"#000000\" d=\"M100.3321,-85.2903C98.4831,-95.3892 101.0391,-105 108,-105 112.4594,-105 115.1109,-101.0557 115.9546,-95.5656\"/>\n",
       "<polygon fill=\"#000000\" stroke=\"#000000\" points=\"119.4456,-95.1887 115.6679,-85.2903 112.4483,-95.384 119.4456,-95.1887\"/>\n",
       "<text text-anchor=\"middle\" x=\"108\" y=\"-108.8\" font-family=\"Times,serif\" font-size=\"14.00\" fill=\"#000000\">0.333</text>\n",
       "</g>\n",
       "<!-- 3 -->\n",
       "<g id=\"node4\" class=\"node\">\n",
       "<title>3</title>\n",
       "<ellipse fill=\"none\" stroke=\"#000000\" cx=\"211\" cy=\"-69\" rx=\"18\" ry=\"18\"/>\n",
       "<text text-anchor=\"middle\" x=\"211\" y=\"-65.3\" font-family=\"Times,serif\" font-size=\"14.00\" fill=\"#000000\">3</text>\n",
       "</g>\n",
       "<!-- 2&#45;&gt;3 -->\n",
       "<g id=\"edge6\" class=\"edge\">\n",
       "<title>2&#45;&gt;3</title>\n",
       "<path fill=\"none\" stroke=\"#000000\" d=\"M126.4143,-69C142.0132,-69 164.635,-69 182.5599,-69\"/>\n",
       "<polygon fill=\"#000000\" stroke=\"#000000\" points=\"182.7451,-72.5001 192.7451,-69 182.7451,-65.5001 182.7451,-72.5001\"/>\n",
       "<text text-anchor=\"middle\" x=\"159.5\" y=\"-72.8\" font-family=\"Times,serif\" font-size=\"14.00\" fill=\"#000000\">0.333</text>\n",
       "</g>\n",
       "<!-- 3&#45;&gt;1 -->\n",
       "<g id=\"edge4\" class=\"edge\">\n",
       "<title>3&#45;&gt;1</title>\n",
       "<path fill=\"none\" stroke=\"#000000\" d=\"M228.9045,-72.0693C264.441,-78.1613 344.3058,-91.8524 389.0596,-99.5245\"/>\n",
       "<polygon fill=\"#000000\" stroke=\"#000000\" points=\"388.6576,-103.0066 399.1052,-101.2466 389.8404,-96.1072 388.6576,-103.0066\"/>\n",
       "<text text-anchor=\"middle\" x=\"314\" y=\"-92.8\" font-family=\"Times,serif\" font-size=\"14.00\" fill=\"#000000\">0.333</text>\n",
       "</g>\n",
       "<!-- 3&#45;&gt;3 -->\n",
       "<g id=\"edge2\" class=\"edge\">\n",
       "<title>3&#45;&gt;3</title>\n",
       "<path fill=\"none\" stroke=\"#000000\" d=\"M202.3666,-84.916C200.1144,-95.1504 202.9922,-105 211,-105 216.2551,-105 219.3009,-100.7581 220.1375,-94.9494\"/>\n",
       "<polygon fill=\"#000000\" stroke=\"#000000\" points=\"223.6308,-94.7278 219.6334,-84.916 216.6396,-95.0791 223.6308,-94.7278\"/>\n",
       "<text text-anchor=\"middle\" x=\"211\" y=\"-108.8\" font-family=\"Times,serif\" font-size=\"14.00\" fill=\"#000000\">0.333</text>\n",
       "</g>\n",
       "<!-- 4 -->\n",
       "<g id=\"node5\" class=\"node\">\n",
       "<title>4</title>\n",
       "<ellipse fill=\"none\" stroke=\"#000000\" cx=\"314\" cy=\"-18\" rx=\"18\" ry=\"18\"/>\n",
       "<text text-anchor=\"middle\" x=\"314\" y=\"-14.3\" font-family=\"Times,serif\" font-size=\"14.00\" fill=\"#000000\">4</text>\n",
       "</g>\n",
       "<!-- 3&#45;&gt;4 -->\n",
       "<g id=\"edge9\" class=\"edge\">\n",
       "<title>3&#45;&gt;4</title>\n",
       "<path fill=\"none\" stroke=\"#000000\" d=\"M227.5487,-60.806C244.0889,-52.6162 269.7362,-39.917 288.8056,-30.4749\"/>\n",
       "<polygon fill=\"#000000\" stroke=\"#000000\" points=\"290.4234,-33.5795 297.8319,-26.0056 287.3172,-27.3063 290.4234,-33.5795\"/>\n",
       "<text text-anchor=\"middle\" x=\"262.5\" y=\"-54.8\" font-family=\"Times,serif\" font-size=\"14.00\" fill=\"#000000\">0.333</text>\n",
       "</g>\n",
       "<!-- 4&#45;&gt;1 -->\n",
       "<g id=\"edge1\" class=\"edge\">\n",
       "<title>4&#45;&gt;1</title>\n",
       "<path fill=\"none\" stroke=\"#000000\" d=\"M327.9884,-29.3737C345.1916,-43.3614 374.7098,-67.3622 395.8817,-84.5767\"/>\n",
       "<polygon fill=\"#000000\" stroke=\"#000000\" points=\"393.8565,-87.441 403.8234,-91.034 398.2725,-82.0097 393.8565,-87.441\"/>\n",
       "<text text-anchor=\"middle\" x=\"365.5\" y=\"-74.8\" font-family=\"Times,serif\" font-size=\"14.00\" fill=\"#000000\">0.333</text>\n",
       "</g>\n",
       "<!-- 4&#45;&gt;2 -->\n",
       "<g id=\"edge8\" class=\"edge\">\n",
       "<title>4&#45;&gt;2</title>\n",
       "<path fill=\"none\" stroke=\"#000000\" d=\"M296.0052,-17.2162C272.0471,-16.6488 228.5615,-17.2886 193,-27 171.3641,-32.9085 148.6796,-44.4258 132.1922,-53.9074\"/>\n",
       "<polygon fill=\"#000000\" stroke=\"#000000\" points=\"130.0783,-51.0914 123.2555,-59.197 133.6438,-57.1153 130.0783,-51.0914\"/>\n",
       "<text text-anchor=\"middle\" x=\"211\" y=\"-30.8\" font-family=\"Times,serif\" font-size=\"14.00\" fill=\"#000000\">0.333</text>\n",
       "</g>\n",
       "<!-- 4&#45;&gt;4 -->\n",
       "<g id=\"edge3\" class=\"edge\">\n",
       "<title>4&#45;&gt;4</title>\n",
       "<path fill=\"none\" stroke=\"#000000\" d=\"M305.3666,-33.916C303.1144,-44.1504 305.9922,-54 314,-54 319.2551,-54 322.3009,-49.7581 323.1375,-43.9494\"/>\n",
       "<polygon fill=\"#000000\" stroke=\"#000000\" points=\"326.6308,-43.7278 322.6334,-33.916 319.6396,-44.0791 326.6308,-43.7278\"/>\n",
       "<text text-anchor=\"middle\" x=\"314\" y=\"-57.8\" font-family=\"Times,serif\" font-size=\"14.00\" fill=\"#000000\">0.333</text>\n",
       "</g>\n",
       "</g>\n",
       "</svg>\n"
      ],
      "text/plain": [
       "Graph()"
      ]
     },
     "execution_count": 4,
     "metadata": {},
     "output_type": "execute_result"
    }
   ],
   "source": [
    "graph = beer.graph.Graph()\n",
    "\n",
    "# Initial and final state are non-emitting.\n",
    "s0 = graph.add_state()\n",
    "s4 = graph.add_state()\n",
    "graph.start_state = s0\n",
    "graph.end_state = s4\n",
    "\n",
    "s1 = graph.add_state(pdf_id=0)\n",
    "s2 = graph.add_state(pdf_id=1)\n",
    "s3 = graph.add_state(pdf_id=2)\n",
    "graph.add_arc(s0, s1)\n",
    "graph.add_arc(s1, s1)\n",
    "graph.add_arc(s1, s2)\n",
    "graph.add_arc(s2, s2)\n",
    "graph.add_arc(s2, s3)\n",
    "graph.add_arc(s3, s3)\n",
    "graph.add_arc(s3, s1)\n",
    "graph.add_arc(s1, s4)\n",
    "graph.add_arc(s2, s4)\n",
    "graph.add_arc(s3, s4)\n",
    "\n",
    "graph.normalize()\n",
    "graph"
   ]
  },
  {
   "cell_type": "code",
   "execution_count": 5,
   "metadata": {
    "ExecuteTime": {
     "end_time": "2019-11-18T08:58:02.035513Z",
     "start_time": "2019-11-18T08:58:01.997269Z"
    }
   },
   "outputs": [
    {
     "data": {
      "text/plain": [
       "tensor([-1.0986, -1.0986, -1.0986])"
      ]
     },
     "execution_count": 5,
     "metadata": {},
     "output_type": "execute_result"
    }
   ],
   "source": [
    "cgraph = graph.compile()\n",
    "cgraph.final_log_probs"
   ]
  },
  {
   "cell_type": "markdown",
   "metadata": {},
   "source": [
    "### Pretrain HMM "
   ]
  },
  {
   "cell_type": "code",
   "execution_count": 6,
   "metadata": {
    "ExecuteTime": {
     "end_time": "2019-11-18T08:58:08.187641Z",
     "start_time": "2019-11-18T08:58:02.038006Z"
    }
   },
   "outputs": [
    {
     "data": {
      "text/plain": [
       "HMM(\n",
       "  (modelset): DynamicallyOrderedModelSet(\n",
       "    (original_modelset): NormalSet(\n",
       "      (means_precisions): ConjugateBayesianParameter(prior=NormalWishart, posterior=NormalWishart)\n",
       "    )\n",
       "  )\n",
       "  (graph): <CompiledGraph>\n",
       ")"
      ]
     },
     "execution_count": 6,
     "metadata": {},
     "output_type": "execute_result"
    }
   ],
   "source": [
    "# We use the global mean/cov. matrix of the data to initialize the mixture.\n",
    "data_mean = torch.from_numpy(data.mean(axis=0)).float()\n",
    "data_var = torch.from_numpy(np.cov(data.T)).float()\n",
    "\n",
    "init_states = torch.LongTensor([0])\n",
    "final_states = torch.LongTensor([2])\n",
    "transitions = torch.from_numpy(trans_mat).float()\n",
    "\n",
    "# HMM (full cov).\n",
    "modelset = beer.NormalSet.create(data_mean, data_var, size=len(transitions),\n",
    "                                prior_strength=1., noise_std=0, \n",
    "                                cov_type='full')\n",
    "hmm_full = beer.HMM.create(cgraph, modelset).double().cuda()\n",
    "\n",
    "hmm_full"
   ]
  },
  {
   "cell_type": "code",
   "execution_count": 7,
   "metadata": {
    "ExecuteTime": {
     "end_time": "2019-11-18T08:58:18.143276Z",
     "start_time": "2019-11-18T08:58:08.190536Z"
    }
   },
   "outputs": [],
   "source": [
    "epochs = 30\n",
    "lrate = 1.\n",
    "X = torch.from_numpy(data).cuda()\n",
    "\n",
    "optim = beer.VBConjugateOptimizer(hmm_full.mean_field_factorization(), lrate)\n",
    "\n",
    "elbos = []\n",
    "\n",
    "for epoch in range(epochs):\n",
    "    optim.init_step()\n",
    "    elbo = beer.evidence_lower_bound(hmm_full, X, datasize=len(X), viterbi=False)\n",
    "    elbo.backward()\n",
    "    elbos.append(float(elbo) / len(X)) \n",
    "    optim.step()"
   ]
  },
  {
   "cell_type": "code",
   "execution_count": 8,
   "metadata": {
    "ExecuteTime": {
     "end_time": "2019-11-18T08:58:18.212484Z",
     "start_time": "2019-11-18T08:58:18.150893Z"
    }
   },
   "outputs": [
    {
     "data": {
      "text/html": [
       "\n",
       "\n",
       "\n",
       "\n",
       "\n",
       "\n",
       "  <div class=\"bk-root\" id=\"64286b3e-e400-4dec-a012-b45c76b53c6c\"></div>\n"
      ]
     },
     "metadata": {},
     "output_type": "display_data"
    },
    {
     "data": {
      "application/javascript": [
       "(function(root) {\n",
       "  function embed_document(root) {\n",
       "    \n",
       "  var docs_json = {\"26a8f708-2f31-41e1-9c39-4b8993c7722f\":{\"roots\":{\"references\":[{\"attributes\":{\"below\":[{\"id\":\"1011\",\"type\":\"LinearAxis\"}],\"left\":[{\"id\":\"1016\",\"type\":\"LinearAxis\"}],\"renderers\":[{\"id\":\"1011\",\"type\":\"LinearAxis\"},{\"id\":\"1015\",\"type\":\"Grid\"},{\"id\":\"1016\",\"type\":\"LinearAxis\"},{\"id\":\"1020\",\"type\":\"Grid\"},{\"id\":\"1029\",\"type\":\"BoxAnnotation\"},{\"id\":\"1039\",\"type\":\"GlyphRenderer\"}],\"title\":{\"id\":\"1041\",\"type\":\"Title\"},\"toolbar\":{\"id\":\"1027\",\"type\":\"Toolbar\"},\"x_range\":{\"id\":\"1003\",\"type\":\"DataRange1d\"},\"x_scale\":{\"id\":\"1007\",\"type\":\"LinearScale\"},\"y_range\":{\"id\":\"1005\",\"type\":\"DataRange1d\"},\"y_scale\":{\"id\":\"1009\",\"type\":\"LinearScale\"}},\"id\":\"1002\",\"subtype\":\"Figure\",\"type\":\"Plot\"},{\"attributes\":{},\"id\":\"1022\",\"type\":\"WheelZoomTool\"},{\"attributes\":{\"callback\":null},\"id\":\"1005\",\"type\":\"DataRange1d\"},{\"attributes\":{},\"id\":\"1048\",\"type\":\"UnionRenderers\"},{\"attributes\":{\"callback\":null},\"id\":\"1003\",\"type\":\"DataRange1d\"},{\"attributes\":{},\"id\":\"1007\",\"type\":\"LinearScale\"},{\"attributes\":{\"active_drag\":\"auto\",\"active_inspect\":\"auto\",\"active_multi\":null,\"active_scroll\":\"auto\",\"active_tap\":\"auto\",\"tools\":[{\"id\":\"1021\",\"type\":\"PanTool\"},{\"id\":\"1022\",\"type\":\"WheelZoomTool\"},{\"id\":\"1023\",\"type\":\"BoxZoomTool\"},{\"id\":\"1024\",\"type\":\"SaveTool\"},{\"id\":\"1025\",\"type\":\"ResetTool\"},{\"id\":\"1026\",\"type\":\"HelpTool\"}]},\"id\":\"1027\",\"type\":\"Toolbar\"},{\"attributes\":{\"data_source\":{\"id\":\"1036\",\"type\":\"ColumnDataSource\"},\"glyph\":{\"id\":\"1037\",\"type\":\"Line\"},\"hover_glyph\":null,\"muted_glyph\":null,\"nonselection_glyph\":{\"id\":\"1038\",\"type\":\"Line\"},\"selection_glyph\":null,\"view\":{\"id\":\"1040\",\"type\":\"CDSView\"}},\"id\":\"1039\",\"type\":\"GlyphRenderer\"},{\"attributes\":{},\"id\":\"1026\",\"type\":\"HelpTool\"},{\"attributes\":{},\"id\":\"1009\",\"type\":\"LinearScale\"},{\"attributes\":{\"callback\":null,\"data\":{\"x\":[0,1,2,3,4,5,6,7,8,9,10,11,12,13,14,15,16,17,18,19,20,21,22,23,24,25,26,27,28,29],\"y\":[-8.43085189595531,-6.225216688715608,-6.224916097551383,-6.223164849357672,-6.213414296906922,-6.161716413526404,-5.932893316548785,-5.210307814520828,-3.820072699826991,-3.19223450774202,-3.1921933413188244,-3.1921933413163655,-3.1921933413163646,-3.1921933413163646,-3.1921933413163646,-3.1921933413163646,-3.1921933413163646,-3.1921933413163646,-3.1921933413163646,-3.1921933413163646,-3.1921933413163646,-3.1921933413163646,-3.1921933413163646,-3.1921933413163646,-3.1921933413163646,-3.1921933413163646,-3.1921933413163646,-3.1921933413163646,-3.1921933413163646,-3.1921933413163646]},\"selected\":{\"id\":\"1047\",\"type\":\"Selection\"},\"selection_policy\":{\"id\":\"1048\",\"type\":\"UnionRenderers\"}},\"id\":\"1036\",\"type\":\"ColumnDataSource\"},{\"attributes\":{\"line_alpha\":0.1,\"line_color\":\"#1f77b4\",\"x\":{\"field\":\"x\"},\"y\":{\"field\":\"y\"}},\"id\":\"1038\",\"type\":\"Line\"},{\"attributes\":{\"formatter\":{\"id\":\"1043\",\"type\":\"BasicTickFormatter\"},\"plot\":{\"id\":\"1002\",\"subtype\":\"Figure\",\"type\":\"Plot\"},\"ticker\":{\"id\":\"1012\",\"type\":\"BasicTicker\"}},\"id\":\"1011\",\"type\":\"LinearAxis\"},{\"attributes\":{\"line_color\":\"#1f77b4\",\"x\":{\"field\":\"x\"},\"y\":{\"field\":\"y\"}},\"id\":\"1037\",\"type\":\"Line\"},{\"attributes\":{},\"id\":\"1047\",\"type\":\"Selection\"},{\"attributes\":{\"source\":{\"id\":\"1036\",\"type\":\"ColumnDataSource\"}},\"id\":\"1040\",\"type\":\"CDSView\"},{\"attributes\":{},\"id\":\"1045\",\"type\":\"BasicTickFormatter\"},{\"attributes\":{},\"id\":\"1021\",\"type\":\"PanTool\"},{\"attributes\":{\"formatter\":{\"id\":\"1045\",\"type\":\"BasicTickFormatter\"},\"plot\":{\"id\":\"1002\",\"subtype\":\"Figure\",\"type\":\"Plot\"},\"ticker\":{\"id\":\"1017\",\"type\":\"BasicTicker\"}},\"id\":\"1016\",\"type\":\"LinearAxis\"},{\"attributes\":{},\"id\":\"1043\",\"type\":\"BasicTickFormatter\"},{\"attributes\":{},\"id\":\"1017\",\"type\":\"BasicTicker\"},{\"attributes\":{},\"id\":\"1012\",\"type\":\"BasicTicker\"},{\"attributes\":{\"bottom_units\":\"screen\",\"fill_alpha\":{\"value\":0.5},\"fill_color\":{\"value\":\"lightgrey\"},\"left_units\":\"screen\",\"level\":\"overlay\",\"line_alpha\":{\"value\":1.0},\"line_color\":{\"value\":\"black\"},\"line_dash\":[4,4],\"line_width\":{\"value\":2},\"plot\":null,\"render_mode\":\"css\",\"right_units\":\"screen\",\"top_units\":\"screen\"},\"id\":\"1029\",\"type\":\"BoxAnnotation\"},{\"attributes\":{\"overlay\":{\"id\":\"1029\",\"type\":\"BoxAnnotation\"}},\"id\":\"1023\",\"type\":\"BoxZoomTool\"},{\"attributes\":{},\"id\":\"1025\",\"type\":\"ResetTool\"},{\"attributes\":{},\"id\":\"1024\",\"type\":\"SaveTool\"},{\"attributes\":{\"plot\":null,\"text\":\"\"},\"id\":\"1041\",\"type\":\"Title\"},{\"attributes\":{\"dimension\":1,\"plot\":{\"id\":\"1002\",\"subtype\":\"Figure\",\"type\":\"Plot\"},\"ticker\":{\"id\":\"1017\",\"type\":\"BasicTicker\"}},\"id\":\"1020\",\"type\":\"Grid\"},{\"attributes\":{\"plot\":{\"id\":\"1002\",\"subtype\":\"Figure\",\"type\":\"Plot\"},\"ticker\":{\"id\":\"1012\",\"type\":\"BasicTicker\"}},\"id\":\"1015\",\"type\":\"Grid\"}],\"root_ids\":[\"1002\"]},\"title\":\"Bokeh Application\",\"version\":\"1.0.0\"}};\n",
       "  var render_items = [{\"docid\":\"26a8f708-2f31-41e1-9c39-4b8993c7722f\",\"roots\":{\"1002\":\"64286b3e-e400-4dec-a012-b45c76b53c6c\"}}];\n",
       "  root.Bokeh.embed.embed_items_notebook(docs_json, render_items);\n",
       "\n",
       "  }\n",
       "  if (root.Bokeh !== undefined) {\n",
       "    embed_document(root);\n",
       "  } else {\n",
       "    var attempts = 0;\n",
       "    var timer = setInterval(function(root) {\n",
       "      if (root.Bokeh !== undefined) {\n",
       "        embed_document(root);\n",
       "        clearInterval(timer);\n",
       "      }\n",
       "      attempts++;\n",
       "      if (attempts > 100) {\n",
       "        console.log(\"Bokeh: ERROR: Unable to run BokehJS code because BokehJS library is missing\");\n",
       "        clearInterval(timer);\n",
       "      }\n",
       "    }, 10, root)\n",
       "  }\n",
       "})(window);"
      ],
      "application/vnd.bokehjs_exec.v0+json": ""
     },
     "metadata": {
      "application/vnd.bokehjs_exec.v0+json": {
       "id": "1002"
      }
     },
     "output_type": "display_data"
    }
   ],
   "source": [
    "fig = figure()\n",
    "fig.line(range(len(elbos)), elbos)\n",
    "show(fig)"
   ]
  },
  {
   "cell_type": "markdown",
   "metadata": {},
   "source": [
    "### Train VAE"
   ]
  },
  {
   "cell_type": "code",
   "execution_count": 9,
   "metadata": {
    "ExecuteTime": {
     "end_time": "2019-11-18T08:58:18.360925Z",
     "start_time": "2019-11-18T08:58:18.215156Z"
    }
   },
   "outputs": [],
   "source": [
    "encoder = beer.nnet.ResidualFeedForwardNet(dim_in=2, nblocks=2, block_width=2)\n",
    "decoder = beer.nnet.ResidualFeedForwardNet(dim_in=2, nblocks=2, block_width=2)\n",
    "vae = beer.VAE(hmm_full, encoder, decoder).double().cuda()"
   ]
  },
  {
   "cell_type": "code",
   "execution_count": 10,
   "metadata": {
    "ExecuteTime": {
     "end_time": "2019-11-18T08:58:18.464144Z",
     "start_time": "2019-11-18T08:58:18.363159Z"
    }
   },
   "outputs": [],
   "source": [
    "# small number of epochs for testing\n",
    "epochs = 800\n",
    "update_prior_after_epoch = 50\n",
    "prior_lrate = 1.\n",
    "cjg_optim = beer.VBConjugateOptimizer(vae.mean_field_factorization(), lrate=0)\n",
    "std_optim = torch.optim.Adam(vae.parameters(), lr=1e-3)\n",
    "optim = beer.VBOptimizer(cjg_optim, std_optim)"
   ]
  },
  {
   "cell_type": "code",
   "execution_count": 11,
   "metadata": {
    "ExecuteTime": {
     "end_time": "2019-11-18T09:01:56.027886Z",
     "start_time": "2019-11-18T08:58:18.466443Z"
    }
   },
   "outputs": [],
   "source": [
    "elbos = []\n",
    "for e in range(epochs):\n",
    "    optim.init_step()\n",
    "    elbo = beer.evidence_lower_bound(vae, X, nsamples=5)\n",
    "    elbo.backward()\n",
    "    optim.step()\n",
    "    \n",
    "    if e >= update_prior_after_epoch:\n",
    "        cjg_optim.lrate = prior_lrate\n",
    "    elbos.append(float(elbo) / len(X))"
   ]
  },
  {
   "cell_type": "code",
   "execution_count": 12,
   "metadata": {
    "ExecuteTime": {
     "end_time": "2019-11-18T09:01:56.103782Z",
     "start_time": "2019-11-18T09:01:56.032188Z"
    }
   },
   "outputs": [
    {
     "data": {
      "text/html": [
       "\n",
       "\n",
       "\n",
       "\n",
       "\n",
       "\n",
       "  <div class=\"bk-root\" id=\"f36bd0f3-1f11-4a9c-ba8e-39e53fbb01d0\"></div>\n"
      ]
     },
     "metadata": {},
     "output_type": "display_data"
    },
    {
     "data": {
      "application/javascript": [
       "(function(root) {\n",
       "  function embed_document(root) {\n",
       "    \n",
       "  var docs_json = {\"f420d439-e180-4d3d-b854-ed2b23edf51b\":{\"roots\":{\"references\":[{\"attributes\":{\"below\":[{\"id\":\"1113\",\"type\":\"LinearAxis\"}],\"left\":[{\"id\":\"1118\",\"type\":\"LinearAxis\"}],\"renderers\":[{\"id\":\"1113\",\"type\":\"LinearAxis\"},{\"id\":\"1117\",\"type\":\"Grid\"},{\"id\":\"1118\",\"type\":\"LinearAxis\"},{\"id\":\"1122\",\"type\":\"Grid\"},{\"id\":\"1131\",\"type\":\"BoxAnnotation\"},{\"id\":\"1141\",\"type\":\"GlyphRenderer\"}],\"title\":{\"id\":\"1152\",\"type\":\"Title\"},\"toolbar\":{\"id\":\"1129\",\"type\":\"Toolbar\"},\"x_range\":{\"id\":\"1105\",\"type\":\"DataRange1d\"},\"x_scale\":{\"id\":\"1109\",\"type\":\"LinearScale\"},\"y_range\":{\"id\":\"1107\",\"type\":\"DataRange1d\"},\"y_scale\":{\"id\":\"1111\",\"type\":\"LinearScale\"}},\"id\":\"1104\",\"subtype\":\"Figure\",\"type\":\"Plot\"},{\"attributes\":{\"active_drag\":\"auto\",\"active_inspect\":\"auto\",\"active_multi\":null,\"active_scroll\":\"auto\",\"active_tap\":\"auto\",\"tools\":[{\"id\":\"1123\",\"type\":\"PanTool\"},{\"id\":\"1124\",\"type\":\"WheelZoomTool\"},{\"id\":\"1125\",\"type\":\"BoxZoomTool\"},{\"id\":\"1126\",\"type\":\"SaveTool\"},{\"id\":\"1127\",\"type\":\"ResetTool\"},{\"id\":\"1128\",\"type\":\"HelpTool\"}]},\"id\":\"1129\",\"type\":\"Toolbar\"},{\"attributes\":{},\"id\":\"1119\",\"type\":\"BasicTicker\"},{\"attributes\":{\"source\":{\"id\":\"1138\",\"type\":\"ColumnDataSource\"}},\"id\":\"1142\",\"type\":\"CDSView\"},{\"attributes\":{},\"id\":\"1127\",\"type\":\"ResetTool\"},{\"attributes\":{\"plot\":null,\"text\":\"\"},\"id\":\"1152\",\"type\":\"Title\"},{\"attributes\":{\"line_color\":\"#1f77b4\",\"x\":{\"field\":\"x\"},\"y\":{\"field\":\"y\"}},\"id\":\"1139\",\"type\":\"Line\"},{\"attributes\":{},\"id\":\"1154\",\"type\":\"BasicTickFormatter\"},{\"attributes\":{},\"id\":\"1158\",\"type\":\"Selection\"},{\"attributes\":{\"formatter\":{\"id\":\"1156\",\"type\":\"BasicTickFormatter\"},\"plot\":{\"id\":\"1104\",\"subtype\":\"Figure\",\"type\":\"Plot\"},\"ticker\":{\"id\":\"1119\",\"type\":\"BasicTicker\"}},\"id\":\"1118\",\"type\":\"LinearAxis\"},{\"attributes\":{\"formatter\":{\"id\":\"1154\",\"type\":\"BasicTickFormatter\"},\"plot\":{\"id\":\"1104\",\"subtype\":\"Figure\",\"type\":\"Plot\"},\"ticker\":{\"id\":\"1114\",\"type\":\"BasicTicker\"}},\"id\":\"1113\",\"type\":\"LinearAxis\"},{\"attributes\":{},\"id\":\"1156\",\"type\":\"BasicTickFormatter\"},{\"attributes\":{\"callback\":null,\"data\":{\"x\":[0,1,2,3,4,5,6,7,8,9,10,11,12,13,14,15,16,17,18,19,20,21,22,23,24,25,26,27,28,29,30,31,32,33,34,35,36,37,38,39,40,41,42,43,44,45,46,47,48,49,50,51,52,53,54,55,56,57,58,59,60,61,62,63,64,65,66,67,68,69,70,71,72,73,74,75,76,77,78,79,80,81,82,83,84,85,86,87,88,89,90,91,92,93,94,95,96,97,98,99,100,101,102,103,104,105,106,107,108,109,110,111,112,113,114,115,116,117,118,119,120,121,122,123,124,125,126,127,128,129,130,131,132,133,134,135,136,137,138,139,140,141,142,143,144,145,146,147,148,149,150,151,152,153,154,155,156,157,158,159,160,161,162,163,164,165,166,167,168,169,170,171,172,173,174,175,176,177,178,179,180,181,182,183,184,185,186,187,188,189,190,191,192,193,194,195,196,197,198,199,200,201,202,203,204,205,206,207,208,209,210,211,212,213,214,215,216,217,218,219,220,221,222,223,224,225,226,227,228,229,230,231,232,233,234,235,236,237,238,239,240,241,242,243,244,245,246,247,248,249,250,251,252,253,254,255,256,257,258,259,260,261,262,263,264,265,266,267,268,269,270,271,272,273,274,275,276,277,278,279,280,281,282,283,284,285,286,287,288,289,290,291,292,293,294,295,296,297,298,299,300,301,302,303,304,305,306,307,308,309,310,311,312,313,314,315,316,317,318,319,320,321,322,323,324,325,326,327,328,329,330,331,332,333,334,335,336,337,338,339,340,341,342,343,344,345,346,347,348,349,350,351,352,353,354,355,356,357,358,359,360,361,362,363,364,365,366,367,368,369,370,371,372,373,374,375,376,377,378,379,380,381,382,383,384,385,386,387,388,389,390,391,392,393,394,395,396,397,398,399,400,401,402,403,404,405,406,407,408,409,410,411,412,413,414,415,416,417,418,419,420,421,422,423,424,425,426,427,428,429,430,431,432,433,434,435,436,437,438,439,440,441,442,443,444,445,446,447,448,449,450,451,452,453,454,455,456,457,458,459,460,461,462,463,464,465,466,467,468,469,470,471,472,473,474,475,476,477,478,479,480,481,482,483,484,485,486,487,488,489,490,491,492,493,494,495,496,497,498,499,500,501,502,503,504,505,506,507,508,509,510,511,512,513,514,515,516,517,518,519,520,521,522,523,524,525,526,527,528,529,530,531,532,533,534,535,536,537,538,539,540,541,542,543,544,545,546,547,548,549,550,551,552,553,554,555,556,557,558,559,560,561,562,563,564,565,566,567,568,569,570,571,572,573,574,575,576,577,578,579,580,581,582,583,584,585,586,587,588,589,590,591,592,593,594,595,596,597,598,599,600,601,602,603,604,605,606,607,608,609,610,611,612,613,614,615,616,617,618,619,620,621,622,623,624,625,626,627,628,629,630,631,632,633,634,635,636,637,638,639,640,641,642,643,644,645,646,647,648,649,650,651,652,653,654,655,656,657,658,659,660,661,662,663,664,665,666,667,668,669,670,671,672,673,674,675,676,677,678,679,680,681,682,683,684,685,686,687,688,689,690,691,692,693,694,695,696,697,698,699],\"y\":[-154608.29211271866,-153421.3349210213,-152132.58203702982,-150934.47838166077,-149638.6279644727,-148310.35304937378,-147196.35181286844,-145988.03735787925,-144762.90734155825,-144035.41074450215,-142605.94216009436,-141485.146051054,-140464.87359183002,-139523.91955459333,-138190.4074540588,-137598.46584070494,-136328.6402470791,-135223.21205374112,-134048.10175678178,-133523.51622361664,-132575.39331680228,-131906.01672318045,-130682.46747376946,-129956.80070511065,-128931.2378904181,-128453.69522938585,-127599.99768882895,-126658.72353824836,-125686.21160788173,-125125.7964785623,-124332.92293034778,-123773.93128218006,-123138.96712806926,-122135.98570891072,-121158.14346330648,-120673.24908807235,-119832.22879385418,-119131.86453960347,-118679.30605444332,-117637.55267356905,-117230.72609644222,-116538.75595900824,-116044.25633966207,-115358.13056148737,-114644.2287809443,-114144.80795113469,-113284.39258717159,-112731.10685494781,-112252.14217678207,-111481.39603833572,-110969.70628496069,-110465.60299431004,-109577.82097728233,-109454.74876295171,-108423.81465328943,-108321.05870383019,-107319.20734991434,-107018.21046881325,-106237.22412054526,-105809.33266765025,-105448.68924978707,-104902.428273803,-104349.1683479199,-103883.12806323575,-103374.54471074032,-102704.49038341545,-102331.88389132761,-101787.68979258652,-101345.88240302306,-100909.26368543244,-100596.21640878876,-99877.97056377659,-99421.68370329442,-98941.519965569,-98760.73827333922,-98025.97712142022,-97635.62564393935,-97170.69008052869,-96935.525816284,-96361.21991880589,-95911.78827042208,-95572.71844633926,-94993.36906698314,-94637.30267565274,-94074.81103277791,-93859.35859465433,-93429.31153071317,-93025.7351325874,-92586.59142679961,-92218.42083841894,-91739.09985966075,-91375.24960931252,-90898.49277846227,-90643.32667128055,-90030.74629435461,-89858.00397112081,-89495.04478784278,-89301.51971996418,-88794.0056694123,-88240.20809863546,-88137.36072448696,-87700.01238837639,-87161.82376396723,-86840.33929784516,-86446.87703385668,-86235.83980997402,-85843.07848406477,-85558.21542441621,-85302.40342153721,-84811.92061683642,-84405.6533893013,-84232.83852642785,-83828.6236907488,-83352.22215711322,-83067.04339087899,-82707.90602245828,-82404.42567863317,-82275.74214819062,-81798.56829910245,-81616.54127391081,-81215.94218653935,-81216.66597281682,-80455.01818421521,-80261.60172945926,-80127.12266825694,-79818.27927550425,-79533.52799704214,-79132.10767157238,-78904.85880394974,-78742.24138073354,-78337.29051800678,-78217.83922101923,-77729.2126548857,-77492.95205935765,-77199.00210054431,-76934.01259303009,-76807.07859825813,-76329.20420216706,-76286.32182818242,-75703.81574626217,-75498.4741026866,-75515.09410772506,-75143.48597066115,-74813.81571725538,-74463.67003782462,-74360.92437425739,-74151.00266854535,-73789.96530206114,-73647.83973652899,-73314.87865690686,-73172.2015400347,-72896.25414109873,-72664.5176345189,-72304.23566813479,-71995.86595757847,-71842.39619301546,-71510.141114949,-71546.55674541085,-71234.49319146185,-71057.99589699674,-70704.04970361358,-70482.14818329884,-70224.18928693478,-69996.25984680613,-69879.550298029,-69421.64651672237,-69300.09250045988,-69060.42831698035,-68794.65559859708,-68662.46288889456,-68350.88441739482,-68291.34585421212,-68131.12213584223,-67745.36152973324,-67457.5164862258,-67620.47495715816,-67230.98133175919,-66959.01190568028,-66752.01567311905,-66582.1040521361,-66267.2211044583,-66251.32825694911,-65927.95617975792,-65664.41093287781,-65555.21857114746,-65279.46659775006,-65120.92239026321,-64897.26432267913,-64648.149069670304,-64671.7744347985,-64424.97434849201,-64272.734255018484,-64011.03996436899,-63993.74592112583,-63516.19550138749,-63320.8217374939,-63300.98848826848,-63055.732677912776,-62998.43960658034,-62818.01484358367,-62603.089994256494,-62465.79243340837,-62208.47460792395,-62151.93109464519,-61931.60230682183,-61811.01620585141,-61539.84294850184,-61322.573386347554,-61243.4734541177,-61090.02382683561,-60803.5546550373,-60691.34022468546,-60696.03452342063,-60370.04693492672,-60169.089997722134,-60045.05765060198,-59801.07955994078,-59728.23601158712,-59444.68612379154,-59432.857180433624,-59245.52260417685,-59187.269182190896,-59007.66895458671,-58906.67320430454,-58639.29004194171,-58528.87442361309,-58223.15660341623,-58234.91224664135,-57914.68650404891,-57897.75121524765,-57740.835703051016,-57560.01280539834,-57376.461658057495,-57198.634595495074,-57021.88224626406,-56974.10273850834,-56816.06753987481,-56652.47688522487,-56511.93431882414,-56404.15916895628,-56282.60305727533,-56085.09258263649,-55954.83229630201,-55884.39854551101,-55746.05437745133,-55377.09552544676,-55390.554352056366,-55303.24703759968,-55130.5345435177,-54992.99995015113,-54866.67390663075,-54812.81681813042,-54618.63734948354,-54411.790682887724,-54411.10763757475,-54134.907679101954,-54083.80907545193,-53951.01198102352,-53727.28881665803,-53649.07783232651,-53489.493619207315,-53315.34261382979,-53345.03035295856,-53096.27067669062,-52929.710513997714,-52921.777493100315,-52812.473885128806,-52601.99756360276,-52461.06220836983,-52456.21489324353,-52260.8229794689,-52144.4287985189,-52117.45828740713,-52021.35090681778,-51810.76613984695,-51613.51575993947,-51596.177632333674,-51450.462650911744,-51289.77769427751,-51158.4750961932,-51193.775658077815,-50916.22452395335,-50742.20695667695,-50806.448842049766,-50679.63351290135,-50541.019928390626,-50508.080973229975,-50364.95503218936,-50172.412499657825,-50014.59327597976,-50003.46253691332,-49840.88055081039,-49858.66692596175,-49562.64702134529,-49478.752955894284,-49316.95738885622,-49389.07608926256,-49263.73626695246,-49178.204642835284,-49088.69655682239,-48845.723744749565,-48796.808811704854,-48644.92446985728,-48519.58361128667,-48507.11495862845,-48293.27133818536,-48292.13871397617,-48107.079822833075,-48022.334469428824,-47984.984508262336,-48006.22175463482,-47712.24635890054,-47543.316369487824,-47488.14740420351,-47536.406684435744,-47460.50460780237,-47349.347232355394,-47124.309165821076,-47102.822431711465,-46978.554423168665,-46785.42188894711,-46780.47960024181,-46744.081117238195,-46635.14514044634,-46400.667157616896,-46436.36327532022,-46366.83902344766,-46155.700322007244,-46132.58412405696,-45910.22864180214,-45961.711055001586,-45763.718798732996,-45785.45046545998,-45695.16176633147,-45593.09403579838,-45386.03474712103,-45304.91689840497,-45240.787464693116,-45159.15134836642,-45075.9675035865,-45022.01174977243,-44935.037617031565,-44957.26847217014,-44756.80800825313,-44646.900760194,-44515.134121794064,-44616.545149996826,-44269.03542064809,-44345.43262735116,-44090.75912325065,-44161.95558776169,-44002.41131228889,-44022.600980831165,-43941.606661650316,-43828.45428643321,-43702.17361138984,-43474.84296510823,-43502.3932273807,-43413.258909805365,-43362.392285493865,-43321.80956065085,-43161.63294644423,-43225.53252665424,-43018.029676947735,-42951.23136099523,-42836.84157435995,-42671.670977059395,-42553.203433131675,-42581.172726617675,-42504.3349979032,-42440.16229665878,-42270.47832419988,-42272.849219162395,-42229.63646842719,-42120.79980119115,-42059.519110690024,-42040.24155439788,-41893.84874856938,-41816.74523427144,-41702.38876890824,-41480.89283926969,-41539.75521143068,-41524.32961012688,-41503.972626102164,-41298.59538349076,-41263.66251743461,-41215.52569169291,-41097.64782144652,-41087.88767668791,-40982.27612207648,-40858.246327428475,-40757.93383302666,-40738.92366445013,-40451.87612484275,-40528.51255361745,-40253.81396954001,-40398.049748888174,-40145.622180366416,-40071.585460738424,-40201.18301668769,-39804.16474865372,-39865.88838271422,-39522.15103960734,-39616.68369983723,-39522.90590178801,-39464.18822851027,-39333.43922153569,-39177.43944620257,-39112.990333999725,-38606.50564317366,-38900.768391789075,-38595.89474969793,-38562.03745619393,-38330.4458970026,-38273.33311522998,-38020.34224014857,-37843.921221164754,-37790.1898912942,-37082.260758592376,-36748.74609157936,-36411.70224230242,-36037.0151017982,-35433.78706457152,-35490.19258025519,-34970.03672270211,-34964.30902078668,-34842.778776628154,-43400.452617214505,-34201.42704368012,-36130.989192870635,-35019.46046074145,-34188.248637055774,-34614.15259664286,-35722.42033876775,-35102.7904490754,-34342.20123129018,-34095.96594004792,-38296.15421774369,-34418.94560366607,-34671.06661571463,-34193.47877505809,-34127.77592981069,-34389.82420234955,-34560.72706481702,-34236.777707551795,-35048.549416492606,-34162.152178956945,-33413.59331681112,-34325.72549409312,-34042.22427542255,-33579.08931078204,-33910.413081357416,-34356.703310435434,-34166.67662599206,-33643.914905097874,-33629.49257788205,-33362.844001441874,-34412.03357112389,-33176.155936922616,-32849.868330656995,-33444.98472421911,-33654.57017314043,-33109.23020652783,-33817.68647946573,-33060.28048451934,-33099.62808165507,-33261.8712462049,-32800.14969620966,-32561.402319083903,-32607.301665839863,-32170.176300537165,-32281.546557538517,-32117.11322335283,-37824.95124291387,-32295.95642728559,-32632.02217396331,-32100.377688750803,-32529.300853672383,-32139.58272574791,-32062.518285861934,-31705.398420221463,-32624.23286577511,-31743.266345694792,-31531.903610283392,-32379.589034043016,-32185.481543171107,-31442.119879043417,-31934.270004263588,-31674.356926052886,-32261.308379429105,-31310.807012214376,-31284.95674906895,-31687.678690126744,-31262.05381967138,-31034.434127704084,-31026.63869504918,-33042.20141447504,-31840.273580940495,-30259.77454221207,-31938.770226213222,-32970.196356449254,-31029.072937182395,-30520.20290165131,-30828.721414041127,-30878.717670027025,-30873.240117569225,-32222.686980446546,-31016.509747649066,-31779.751001790482,-30627.919198696483,-30613.35699387514,-30641.04444959621,-30602.77208976617,-41728.94867868735,-30313.40517747962,-30472.52807202801,-30469.985884625552,-30293.839971328216,-31007.76218314886,-34731.74053360356,-30251.48589622246,-30885.553518292487,-30371.229531942736,-30481.60916143755,-30710.84823606137,-30756.224164517287,-30332.7231924493,-30615.929615950732,-30586.43873501864,-30212.951609035415,-30313.108996573643,-30213.29619379781,-30248.36541670727,-30261.97057870899,-30177.390755692206,-30188.194967537143,-30022.7911476767,-30195.217867077972,-30141.754756067556,-29686.912916355413,-30241.30148881505,-29799.825148844662,-29779.810245793666,-30308.538682187853,-29679.056603393314,-31700.052971501675,-29384.5491276765,-29653.68615399497,-29498.42349985473,-29614.36857704487,-29221.145195859266,-29130.30730961514,-29335.654399156203,-29322.571509414407,-28945.28359617538,-29246.41827553242,-30623.720620775202,-28792.424011951083,-29418.97776600492,-29109.26180594873,-29203.20966446326,-28900.86862605383,-28607.34451698177,-28515.30187538209,-28481.159680542045,-28504.545800614345,-29450.31658066493,-28573.29645427415,-28253.202439399673,-30731.4295824571,-28988.182524167387,-28532.51248377687,-29038.62722761394,-28353.436705180717,-28499.456642014316,-28637.95325347862,-29390.565610266687,-28360.95927155616,-28298.786040432224,-28731.428000750137,-28616.74497189213,-28459.29668141542,-28372.208312729366,-29048.233601264594,-27918.31468232356,-30901.397786401878,-28893.334081649333,-28058.229886867008,-27748.487739266802,-27933.2611684097,-27580.375041111794,-28238.877957386292,-28483.31062064899,-27625.89656203191,-30953.536641348477,-27812.258481249974,-28626.799567452475,-27881.419662005716,-27458.248851155568,-27477.168443892344,-28364.16807599956,-27806.95393040043,-27230.547844329583,-27234.23268904191,-28560.728526485793,-28126.782818717,-27150.800477842455,-27451.12424585327,-27540.806604279023,-28056.154920216835,-27570.86769340232,-28451.513173081137,-27708.99942825453,-26981.21680252665,-27627.065925020397,-27127.95375442665,-27780.304733904875,-27026.271423824375,-28350.23057040333,-27214.93409683866,-27318.797262977576,-27166.48331576524,-27298.057122482485,-27171.986313443875,-27088.44978470735,-27107.15413166563,-27820.937190364024,-26715.037435793503,-26829.760742417795,-26794.89827155214,-29770.269094201816,-27895.217975649965,-26935.17692850918,-27148.163667193825,-26860.795975997622,-27244.72533879802,-26596.52280738901,-26603.2220000498,-26880.51434179511,-26852.135703389755,-26480.413139265464,-26463.1033477154,-26128.597253983116,-26321.51871800068,-26337.04467428119,-26327.93066214131,-31808.34979426374,-26473.05321361404,-26741.715462285127,-26447.122294410652,-27001.275145964595,-26389.18129308279,-26355.189564175074,-26772.33533350375,-26348.92150997518,-26218.806765009722,-26841.925143361303,-26070.6934210495,-26417.26853925359,-26477.03422997292,-26504.619653053735,-26085.520334040735,-26009.387369319455,-25992.67154847016,-26143.257530621628,-25674.611572274458,-25882.983472249987,-25641.99081768648,-26190.68862477686,-25572.758300361467,-25768.66048963472,-25851.493106863752,-25710.48280324966,-25842.887382112123,-25950.88714018244,-25401.797635230123,-26596.912106453143,-25727.79771422446,-25526.982086292057,-25852.393505174492,-25289.139833441583,-25462.87878966191,-25918.698655865534,-25090.297763383394,-25512.017336378314,-25491.74244426452,-25237.344943446176,-25259.390078425782,-25186.54400317008,-25372.948442267865,-25206.393342287178,-25186.474870567097,-24705.386959414132,-27419.9782945742,-24974.340945167394,-25048.842750675023,-24949.3646521283,-24903.64703083872,-24574.03556529434,-24771.77312146977]},\"selected\":{\"id\":\"1158\",\"type\":\"Selection\"},\"selection_policy\":{\"id\":\"1159\",\"type\":\"UnionRenderers\"}},\"id\":\"1138\",\"type\":\"ColumnDataSource\"},{\"attributes\":{},\"id\":\"1159\",\"type\":\"UnionRenderers\"},{\"attributes\":{},\"id\":\"1111\",\"type\":\"LinearScale\"},{\"attributes\":{\"plot\":{\"id\":\"1104\",\"subtype\":\"Figure\",\"type\":\"Plot\"},\"ticker\":{\"id\":\"1114\",\"type\":\"BasicTicker\"}},\"id\":\"1117\",\"type\":\"Grid\"},{\"attributes\":{\"line_alpha\":0.1,\"line_color\":\"#1f77b4\",\"x\":{\"field\":\"x\"},\"y\":{\"field\":\"y\"}},\"id\":\"1140\",\"type\":\"Line\"},{\"attributes\":{\"bottom_units\":\"screen\",\"fill_alpha\":{\"value\":0.5},\"fill_color\":{\"value\":\"lightgrey\"},\"left_units\":\"screen\",\"level\":\"overlay\",\"line_alpha\":{\"value\":1.0},\"line_color\":{\"value\":\"black\"},\"line_dash\":[4,4],\"line_width\":{\"value\":2},\"plot\":null,\"render_mode\":\"css\",\"right_units\":\"screen\",\"top_units\":\"screen\"},\"id\":\"1131\",\"type\":\"BoxAnnotation\"},{\"attributes\":{},\"id\":\"1109\",\"type\":\"LinearScale\"},{\"attributes\":{},\"id\":\"1114\",\"type\":\"BasicTicker\"},{\"attributes\":{\"dimension\":1,\"plot\":{\"id\":\"1104\",\"subtype\":\"Figure\",\"type\":\"Plot\"},\"ticker\":{\"id\":\"1119\",\"type\":\"BasicTicker\"}},\"id\":\"1122\",\"type\":\"Grid\"},{\"attributes\":{\"data_source\":{\"id\":\"1138\",\"type\":\"ColumnDataSource\"},\"glyph\":{\"id\":\"1139\",\"type\":\"Line\"},\"hover_glyph\":null,\"muted_glyph\":null,\"nonselection_glyph\":{\"id\":\"1140\",\"type\":\"Line\"},\"selection_glyph\":null,\"view\":{\"id\":\"1142\",\"type\":\"CDSView\"}},\"id\":\"1141\",\"type\":\"GlyphRenderer\"},{\"attributes\":{},\"id\":\"1123\",\"type\":\"PanTool\"},{\"attributes\":{},\"id\":\"1124\",\"type\":\"WheelZoomTool\"},{\"attributes\":{\"overlay\":{\"id\":\"1131\",\"type\":\"BoxAnnotation\"}},\"id\":\"1125\",\"type\":\"BoxZoomTool\"},{\"attributes\":{\"callback\":null},\"id\":\"1105\",\"type\":\"DataRange1d\"},{\"attributes\":{\"callback\":null},\"id\":\"1107\",\"type\":\"DataRange1d\"},{\"attributes\":{},\"id\":\"1126\",\"type\":\"SaveTool\"},{\"attributes\":{},\"id\":\"1128\",\"type\":\"HelpTool\"}],\"root_ids\":[\"1104\"]},\"title\":\"Bokeh Application\",\"version\":\"1.0.0\"}};\n",
       "  var render_items = [{\"docid\":\"f420d439-e180-4d3d-b854-ed2b23edf51b\",\"roots\":{\"1104\":\"f36bd0f3-1f11-4a9c-ba8e-39e53fbb01d0\"}}];\n",
       "  root.Bokeh.embed.embed_items_notebook(docs_json, render_items);\n",
       "\n",
       "  }\n",
       "  if (root.Bokeh !== undefined) {\n",
       "    embed_document(root);\n",
       "  } else {\n",
       "    var attempts = 0;\n",
       "    var timer = setInterval(function(root) {\n",
       "      if (root.Bokeh !== undefined) {\n",
       "        embed_document(root);\n",
       "        clearInterval(timer);\n",
       "      }\n",
       "      attempts++;\n",
       "      if (attempts > 100) {\n",
       "        console.log(\"Bokeh: ERROR: Unable to run BokehJS code because BokehJS library is missing\");\n",
       "        clearInterval(timer);\n",
       "      }\n",
       "    }, 10, root)\n",
       "  }\n",
       "})(window);"
      ],
      "application/vnd.bokehjs_exec.v0+json": ""
     },
     "metadata": {
      "application/vnd.bokehjs_exec.v0+json": {
       "id": "1104"
      }
     },
     "output_type": "display_data"
    },
    {
     "data": {
      "text/plain": [
       "-24771.77312146977"
      ]
     },
     "execution_count": 12,
     "metadata": {},
     "output_type": "execute_result"
    }
   ],
   "source": [
    "fig = figure()\n",
    "fig.line(range(len(elbos[100:])), elbos[100:])\n",
    "show(fig)\n",
    "elbos[-1]"
   ]
  },
  {
   "cell_type": "markdown",
   "metadata": {},
   "source": [
    "### Save Model"
   ]
  },
  {
   "cell_type": "code",
   "execution_count": 13,
   "metadata": {
    "ExecuteTime": {
     "end_time": "2019-11-18T09:01:56.267374Z",
     "start_time": "2019-11-18T09:01:56.106461Z"
    }
   },
   "outputs": [],
   "source": [
    "torch.save(vae.state_dict(), 'hmm-vae-cuda.pkl')"
   ]
  },
  {
   "cell_type": "markdown",
   "metadata": {},
   "source": [
    "### Load Model"
   ]
  },
  {
   "cell_type": "code",
   "execution_count": 14,
   "metadata": {
    "ExecuteTime": {
     "end_time": "2019-11-18T09:01:56.379788Z",
     "start_time": "2019-11-18T09:01:56.270541Z"
    }
   },
   "outputs": [
    {
     "data": {
      "text/plain": [
       "<All keys matched successfully>"
      ]
     },
     "execution_count": 14,
     "metadata": {},
     "output_type": "execute_result"
    }
   ],
   "source": [
    "vae.load_state_dict(torch.load('hmm-vae-cuda.pkl'))"
   ]
  }
 ],
 "metadata": {
  "kernelspec": {
   "display_name": "Python 3",
   "language": "python",
   "name": "python3"
  },
  "language_info": {
   "codemirror_mode": {
    "name": "ipython",
    "version": 3
   },
   "file_extension": ".py",
   "mimetype": "text/x-python",
   "name": "python",
   "nbconvert_exporter": "python",
   "pygments_lexer": "ipython3",
   "version": "3.7.1"
  },
  "varInspector": {
   "cols": {
    "lenName": 16,
    "lenType": 16,
    "lenVar": 40
   },
   "kernels_config": {
    "python": {
     "delete_cmd_postfix": "",
     "delete_cmd_prefix": "del ",
     "library": "var_list.py",
     "varRefreshCmd": "print(var_dic_list())"
    },
    "r": {
     "delete_cmd_postfix": ") ",
     "delete_cmd_prefix": "rm(",
     "library": "var_list.r",
     "varRefreshCmd": "cat(var_dic_list()) "
    }
   },
   "position": {
    "height": "636.215px",
    "left": "943.879px",
    "right": "20px",
    "top": "-3.01041px",
    "width": "767.778px"
   },
   "types_to_exclude": [
    "module",
    "function",
    "builtin_function_or_method",
    "instance",
    "_Feature"
   ],
   "window_display": false
  }
 },
 "nbformat": 4,
 "nbformat_minor": 2
}
